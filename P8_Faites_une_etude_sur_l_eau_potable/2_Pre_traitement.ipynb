{
  "nbformat": 4,
  "nbformat_minor": 0,
  "metadata": {
    "colab": {
      "provenance": [],
      "collapsed_sections": [
        "tN0LE1xfD8T0",
        "p50jAVXaZyPz",
        "Gwfpb2gDZ2uT",
        "Ub8hLI1IakNw",
        "yOo__la2b0mq",
        "-Vpmcu11H-km",
        "_GlOeKlBJwWK",
        "CSv7QHZaLYcO"
      ],
      "toc_visible": true
    },
    "kernelspec": {
      "name": "python3",
      "display_name": "Python 3"
    },
    "language_info": {
      "name": "python"
    }
  },
  "cells": [
    {
      "cell_type": "markdown",
      "source": [
        "# DRINKING WATER FOR ALL - Pré-traitement des données - Etude sur l'accès à l'eau potable dans le monde\n",
        "\n",
        "\n"
      ],
      "metadata": {
        "id": "NR5U2-tsD0x2"
      }
    },
    {
      "cell_type": "markdown",
      "source": [
        "# Introduction\n"
      ],
      "metadata": {
        "id": "tN0LE1xfD8T0"
      }
    },
    {
      "cell_type": "code",
      "source": [
        "## Importation des modules & librairies\n",
        "\n",
        "import numpy as np # Calculs numériques et opérations mathématiques\n",
        "import pandas as pd # Manipulation et analyse de données\n",
        "\n",
        "## Paramètres d'affichages\n",
        "pd.set_option('display.float_format', lambda x: '%.0f' % x) # Affichage numérique"
      ],
      "metadata": {
        "id": "6wIHmj_RD9k1"
      },
      "execution_count": 1,
      "outputs": []
    },
    {
      "cell_type": "code",
      "source": [
        "## Mise en place des fonctions\n",
        "def explore_dataframe(data_to_analyse):\n",
        "    \"\"\"\n",
        "    Effectue une analyse exploratoire basique sur un dataframe donné.\n",
        "\n",
        "    Parameters:\n",
        "    data_to_analyse (DataFrame): Le dataframe à analyser.\n",
        "    \"\"\"\n",
        "    # Dimensions du dataframe\n",
        "    print('*' * 40 + \" DIMENSIONS \" + '*' * 44)\n",
        "    print(f\"Le dataframe comporte {data_to_analyse.shape[1]} variable(s) pour {data_to_analyse.shape[0]} observation(s).\")\n",
        "\n",
        "    # Typologies des variables\n",
        "    print('*' * 40 + \" TYPOLOGIES \" + '*' * 44)\n",
        "    for col, dtype in data_to_analyse.dtypes.items():\n",
        "        print(f\"{col} : {dtype}\")\n",
        "\n",
        "    # Effectifs des variables\n",
        "    print('*' * 40 + \" EFFECTIFS \" + '*' * 45)\n",
        "    for col, count in data_to_analyse.describe(include='all').loc['count'].items():\n",
        "        print(f\"{col} : {count}\")\n",
        "\n",
        "    # Valeurs nulles dans le dataframe\n",
        "    print('*' * 40 + \" VALEURS NULLES \" + '*' * 40)\n",
        "    for col, count in data_to_analyse.isnull().sum().items():\n",
        "        print(f\"{col} : {count}\")\n",
        "\n",
        "    # Duplicats dans le dataframe\n",
        "    print('*' * 40 + \" DUPLICATS \" + '*' * 45)\n",
        "    for col, count in data_to_analyse[data_to_analyse.duplicated()].count().items():\n",
        "        print(f\"{col} : {count}\")\n"
      ],
      "metadata": {
        "id": "0P1wF08EZmgO"
      },
      "execution_count": 2,
      "outputs": []
    },
    {
      "cell_type": "code",
      "source": [
        "## Importation des données initiales\n",
        "region_data = pd.read_csv(\"RegionCountry.csv\", sep=',')\n",
        "population_data = pd.read_csv(\"Population.csv\", sep=',')\n",
        "political_data = pd.read_csv(\"PoliticalStability.csv\", sep=',')\n",
        "mortality_data = pd.read_csv(\"MortalityRateAttributedToWater.csv\", sep=',')\n",
        "safety_data = pd.read_csv(\"BasicAndSafelyManagedDrinkingWaterServices.csv\", sep=',')"
      ],
      "metadata": {
        "id": "HTbcgwtMEBeC"
      },
      "execution_count": 3,
      "outputs": []
    },
    {
      "cell_type": "markdown",
      "source": [
        "# Pré-traitement des données"
      ],
      "metadata": {
        "id": "p50jAVXaZyPz"
      }
    },
    {
      "cell_type": "markdown",
      "source": [
        "## Données géographiques"
      ],
      "metadata": {
        "id": "Gwfpb2gDZ2uT"
      }
    },
    {
      "cell_type": "code",
      "source": [
        "## Analyse exploratoire\n",
        "explore_dataframe(region_data)"
      ],
      "metadata": {
        "colab": {
          "base_uri": "https://localhost:8080/"
        },
        "id": "Zrqh_jOeZoPL",
        "outputId": "77e6f54a-5b09-45f8-ae18-53b37f6d224d"
      },
      "execution_count": 4,
      "outputs": [
        {
          "output_type": "stream",
          "name": "stdout",
          "text": [
            "**************************************** DIMENSIONS ********************************************\n",
            "Le dataframe comporte 2 variable(s) pour 194 observation(s).\n",
            "**************************************** TYPOLOGIES ********************************************\n",
            "REGION (DISPLAY) : object\n",
            "COUNTRY (DISPLAY) : object\n",
            "**************************************** EFFECTIFS *********************************************\n",
            "REGION (DISPLAY) : 194\n",
            "COUNTRY (DISPLAY) : 194\n",
            "**************************************** VALEURS NULLES ****************************************\n",
            "REGION (DISPLAY) : 0\n",
            "COUNTRY (DISPLAY) : 0\n",
            "**************************************** DUPLICATS *********************************************\n",
            "REGION (DISPLAY) : 0\n",
            "COUNTRY (DISPLAY) : 0\n"
          ]
        }
      ]
    },
    {
      "cell_type": "code",
      "source": [
        "## Préparation des données\n",
        "\n",
        "# Modifier la typologie des variables\n",
        "region_data['REGION (DISPLAY)'] = region_data['REGION (DISPLAY)'].astype('string')\n",
        "region_data['COUNTRY (DISPLAY)'] = region_data['COUNTRY (DISPLAY)'].astype('string')\n",
        "\n",
        "# Modifier le nom des variables\n",
        "region_data.rename(columns={'REGION (DISPLAY)': 'Region', 'COUNTRY (DISPLAY)': 'Pays'}, inplace=True)"
      ],
      "metadata": {
        "id": "Cwagpfa7Z_WT"
      },
      "execution_count": 5,
      "outputs": []
    },
    {
      "cell_type": "code",
      "source": [
        "## Liste des régions\n",
        "\n",
        "# Identification des régions référencées\n",
        "liste_regions = region_data[\"Region\"].unique()\n",
        "regions_df = pd.DataFrame(liste_regions, columns=[\"Region\"])\n",
        "\n",
        "# Aperçu des résultats\n",
        "regions_df"
      ],
      "metadata": {
        "colab": {
          "base_uri": "https://localhost:8080/",
          "height": 238
        },
        "id": "naz2Fi8vEl6d",
        "outputId": "4a40b20b-2d56-4239-e22e-304ba5e6ee85"
      },
      "execution_count": 6,
      "outputs": [
        {
          "output_type": "execute_result",
          "data": {
            "text/plain": [
              "                  Region\n",
              "0                 Europe\n",
              "1        Western Pacific\n",
              "2  Eastern Mediterranean\n",
              "3        South-East Asia\n",
              "4                 Africa\n",
              "5               Americas"
            ],
            "text/html": [
              "\n",
              "  <div id=\"df-18d33955-973a-4c2e-ad67-e1128b562b52\" class=\"colab-df-container\">\n",
              "    <div>\n",
              "<style scoped>\n",
              "    .dataframe tbody tr th:only-of-type {\n",
              "        vertical-align: middle;\n",
              "    }\n",
              "\n",
              "    .dataframe tbody tr th {\n",
              "        vertical-align: top;\n",
              "    }\n",
              "\n",
              "    .dataframe thead th {\n",
              "        text-align: right;\n",
              "    }\n",
              "</style>\n",
              "<table border=\"1\" class=\"dataframe\">\n",
              "  <thead>\n",
              "    <tr style=\"text-align: right;\">\n",
              "      <th></th>\n",
              "      <th>Region</th>\n",
              "    </tr>\n",
              "  </thead>\n",
              "  <tbody>\n",
              "    <tr>\n",
              "      <th>0</th>\n",
              "      <td>Europe</td>\n",
              "    </tr>\n",
              "    <tr>\n",
              "      <th>1</th>\n",
              "      <td>Western Pacific</td>\n",
              "    </tr>\n",
              "    <tr>\n",
              "      <th>2</th>\n",
              "      <td>Eastern Mediterranean</td>\n",
              "    </tr>\n",
              "    <tr>\n",
              "      <th>3</th>\n",
              "      <td>South-East Asia</td>\n",
              "    </tr>\n",
              "    <tr>\n",
              "      <th>4</th>\n",
              "      <td>Africa</td>\n",
              "    </tr>\n",
              "    <tr>\n",
              "      <th>5</th>\n",
              "      <td>Americas</td>\n",
              "    </tr>\n",
              "  </tbody>\n",
              "</table>\n",
              "</div>\n",
              "    <div class=\"colab-df-buttons\">\n",
              "\n",
              "  <div class=\"colab-df-container\">\n",
              "    <button class=\"colab-df-convert\" onclick=\"convertToInteractive('df-18d33955-973a-4c2e-ad67-e1128b562b52')\"\n",
              "            title=\"Convert this dataframe to an interactive table.\"\n",
              "            style=\"display:none;\">\n",
              "\n",
              "  <svg xmlns=\"http://www.w3.org/2000/svg\" height=\"24px\" viewBox=\"0 -960 960 960\">\n",
              "    <path d=\"M120-120v-720h720v720H120Zm60-500h600v-160H180v160Zm220 220h160v-160H400v160Zm0 220h160v-160H400v160ZM180-400h160v-160H180v160Zm440 0h160v-160H620v160ZM180-180h160v-160H180v160Zm440 0h160v-160H620v160Z\"/>\n",
              "  </svg>\n",
              "    </button>\n",
              "\n",
              "  <style>\n",
              "    .colab-df-container {\n",
              "      display:flex;\n",
              "      gap: 12px;\n",
              "    }\n",
              "\n",
              "    .colab-df-convert {\n",
              "      background-color: #E8F0FE;\n",
              "      border: none;\n",
              "      border-radius: 50%;\n",
              "      cursor: pointer;\n",
              "      display: none;\n",
              "      fill: #1967D2;\n",
              "      height: 32px;\n",
              "      padding: 0 0 0 0;\n",
              "      width: 32px;\n",
              "    }\n",
              "\n",
              "    .colab-df-convert:hover {\n",
              "      background-color: #E2EBFA;\n",
              "      box-shadow: 0px 1px 2px rgba(60, 64, 67, 0.3), 0px 1px 3px 1px rgba(60, 64, 67, 0.15);\n",
              "      fill: #174EA6;\n",
              "    }\n",
              "\n",
              "    .colab-df-buttons div {\n",
              "      margin-bottom: 4px;\n",
              "    }\n",
              "\n",
              "    [theme=dark] .colab-df-convert {\n",
              "      background-color: #3B4455;\n",
              "      fill: #D2E3FC;\n",
              "    }\n",
              "\n",
              "    [theme=dark] .colab-df-convert:hover {\n",
              "      background-color: #434B5C;\n",
              "      box-shadow: 0px 1px 3px 1px rgba(0, 0, 0, 0.15);\n",
              "      filter: drop-shadow(0px 1px 2px rgba(0, 0, 0, 0.3));\n",
              "      fill: #FFFFFF;\n",
              "    }\n",
              "  </style>\n",
              "\n",
              "    <script>\n",
              "      const buttonEl =\n",
              "        document.querySelector('#df-18d33955-973a-4c2e-ad67-e1128b562b52 button.colab-df-convert');\n",
              "      buttonEl.style.display =\n",
              "        google.colab.kernel.accessAllowed ? 'block' : 'none';\n",
              "\n",
              "      async function convertToInteractive(key) {\n",
              "        const element = document.querySelector('#df-18d33955-973a-4c2e-ad67-e1128b562b52');\n",
              "        const dataTable =\n",
              "          await google.colab.kernel.invokeFunction('convertToInteractive',\n",
              "                                                    [key], {});\n",
              "        if (!dataTable) return;\n",
              "\n",
              "        const docLinkHtml = 'Like what you see? Visit the ' +\n",
              "          '<a target=\"_blank\" href=https://colab.research.google.com/notebooks/data_table.ipynb>data table notebook</a>'\n",
              "          + ' to learn more about interactive tables.';\n",
              "        element.innerHTML = '';\n",
              "        dataTable['output_type'] = 'display_data';\n",
              "        await google.colab.output.renderOutput(dataTable, element);\n",
              "        const docLink = document.createElement('div');\n",
              "        docLink.innerHTML = docLinkHtml;\n",
              "        element.appendChild(docLink);\n",
              "      }\n",
              "    </script>\n",
              "  </div>\n",
              "\n",
              "\n",
              "<div id=\"df-e0a26404-1416-4bc9-9bf6-996334189246\">\n",
              "  <button class=\"colab-df-quickchart\" onclick=\"quickchart('df-e0a26404-1416-4bc9-9bf6-996334189246')\"\n",
              "            title=\"Suggest charts\"\n",
              "            style=\"display:none;\">\n",
              "\n",
              "<svg xmlns=\"http://www.w3.org/2000/svg\" height=\"24px\"viewBox=\"0 0 24 24\"\n",
              "     width=\"24px\">\n",
              "    <g>\n",
              "        <path d=\"M19 3H5c-1.1 0-2 .9-2 2v14c0 1.1.9 2 2 2h14c1.1 0 2-.9 2-2V5c0-1.1-.9-2-2-2zM9 17H7v-7h2v7zm4 0h-2V7h2v10zm4 0h-2v-4h2v4z\"/>\n",
              "    </g>\n",
              "</svg>\n",
              "  </button>\n",
              "\n",
              "<style>\n",
              "  .colab-df-quickchart {\n",
              "      --bg-color: #E8F0FE;\n",
              "      --fill-color: #1967D2;\n",
              "      --hover-bg-color: #E2EBFA;\n",
              "      --hover-fill-color: #174EA6;\n",
              "      --disabled-fill-color: #AAA;\n",
              "      --disabled-bg-color: #DDD;\n",
              "  }\n",
              "\n",
              "  [theme=dark] .colab-df-quickchart {\n",
              "      --bg-color: #3B4455;\n",
              "      --fill-color: #D2E3FC;\n",
              "      --hover-bg-color: #434B5C;\n",
              "      --hover-fill-color: #FFFFFF;\n",
              "      --disabled-bg-color: #3B4455;\n",
              "      --disabled-fill-color: #666;\n",
              "  }\n",
              "\n",
              "  .colab-df-quickchart {\n",
              "    background-color: var(--bg-color);\n",
              "    border: none;\n",
              "    border-radius: 50%;\n",
              "    cursor: pointer;\n",
              "    display: none;\n",
              "    fill: var(--fill-color);\n",
              "    height: 32px;\n",
              "    padding: 0;\n",
              "    width: 32px;\n",
              "  }\n",
              "\n",
              "  .colab-df-quickchart:hover {\n",
              "    background-color: var(--hover-bg-color);\n",
              "    box-shadow: 0 1px 2px rgba(60, 64, 67, 0.3), 0 1px 3px 1px rgba(60, 64, 67, 0.15);\n",
              "    fill: var(--button-hover-fill-color);\n",
              "  }\n",
              "\n",
              "  .colab-df-quickchart-complete:disabled,\n",
              "  .colab-df-quickchart-complete:disabled:hover {\n",
              "    background-color: var(--disabled-bg-color);\n",
              "    fill: var(--disabled-fill-color);\n",
              "    box-shadow: none;\n",
              "  }\n",
              "\n",
              "  .colab-df-spinner {\n",
              "    border: 2px solid var(--fill-color);\n",
              "    border-color: transparent;\n",
              "    border-bottom-color: var(--fill-color);\n",
              "    animation:\n",
              "      spin 1s steps(1) infinite;\n",
              "  }\n",
              "\n",
              "  @keyframes spin {\n",
              "    0% {\n",
              "      border-color: transparent;\n",
              "      border-bottom-color: var(--fill-color);\n",
              "      border-left-color: var(--fill-color);\n",
              "    }\n",
              "    20% {\n",
              "      border-color: transparent;\n",
              "      border-left-color: var(--fill-color);\n",
              "      border-top-color: var(--fill-color);\n",
              "    }\n",
              "    30% {\n",
              "      border-color: transparent;\n",
              "      border-left-color: var(--fill-color);\n",
              "      border-top-color: var(--fill-color);\n",
              "      border-right-color: var(--fill-color);\n",
              "    }\n",
              "    40% {\n",
              "      border-color: transparent;\n",
              "      border-right-color: var(--fill-color);\n",
              "      border-top-color: var(--fill-color);\n",
              "    }\n",
              "    60% {\n",
              "      border-color: transparent;\n",
              "      border-right-color: var(--fill-color);\n",
              "    }\n",
              "    80% {\n",
              "      border-color: transparent;\n",
              "      border-right-color: var(--fill-color);\n",
              "      border-bottom-color: var(--fill-color);\n",
              "    }\n",
              "    90% {\n",
              "      border-color: transparent;\n",
              "      border-bottom-color: var(--fill-color);\n",
              "    }\n",
              "  }\n",
              "</style>\n",
              "\n",
              "  <script>\n",
              "    async function quickchart(key) {\n",
              "      const quickchartButtonEl =\n",
              "        document.querySelector('#' + key + ' button');\n",
              "      quickchartButtonEl.disabled = true;  // To prevent multiple clicks.\n",
              "      quickchartButtonEl.classList.add('colab-df-spinner');\n",
              "      try {\n",
              "        const charts = await google.colab.kernel.invokeFunction(\n",
              "            'suggestCharts', [key], {});\n",
              "      } catch (error) {\n",
              "        console.error('Error during call to suggestCharts:', error);\n",
              "      }\n",
              "      quickchartButtonEl.classList.remove('colab-df-spinner');\n",
              "      quickchartButtonEl.classList.add('colab-df-quickchart-complete');\n",
              "    }\n",
              "    (() => {\n",
              "      let quickchartButtonEl =\n",
              "        document.querySelector('#df-e0a26404-1416-4bc9-9bf6-996334189246 button');\n",
              "      quickchartButtonEl.style.display =\n",
              "        google.colab.kernel.accessAllowed ? 'block' : 'none';\n",
              "    })();\n",
              "  </script>\n",
              "</div>\n",
              "\n",
              "  <div id=\"id_dbf498a2-dcec-49e8-bad5-86cd724aac24\">\n",
              "    <style>\n",
              "      .colab-df-generate {\n",
              "        background-color: #E8F0FE;\n",
              "        border: none;\n",
              "        border-radius: 50%;\n",
              "        cursor: pointer;\n",
              "        display: none;\n",
              "        fill: #1967D2;\n",
              "        height: 32px;\n",
              "        padding: 0 0 0 0;\n",
              "        width: 32px;\n",
              "      }\n",
              "\n",
              "      .colab-df-generate:hover {\n",
              "        background-color: #E2EBFA;\n",
              "        box-shadow: 0px 1px 2px rgba(60, 64, 67, 0.3), 0px 1px 3px 1px rgba(60, 64, 67, 0.15);\n",
              "        fill: #174EA6;\n",
              "      }\n",
              "\n",
              "      [theme=dark] .colab-df-generate {\n",
              "        background-color: #3B4455;\n",
              "        fill: #D2E3FC;\n",
              "      }\n",
              "\n",
              "      [theme=dark] .colab-df-generate:hover {\n",
              "        background-color: #434B5C;\n",
              "        box-shadow: 0px 1px 3px 1px rgba(0, 0, 0, 0.15);\n",
              "        filter: drop-shadow(0px 1px 2px rgba(0, 0, 0, 0.3));\n",
              "        fill: #FFFFFF;\n",
              "      }\n",
              "    </style>\n",
              "    <button class=\"colab-df-generate\" onclick=\"generateWithVariable('regions_df')\"\n",
              "            title=\"Generate code using this dataframe.\"\n",
              "            style=\"display:none;\">\n",
              "\n",
              "  <svg xmlns=\"http://www.w3.org/2000/svg\" height=\"24px\"viewBox=\"0 0 24 24\"\n",
              "       width=\"24px\">\n",
              "    <path d=\"M7,19H8.4L18.45,9,17,7.55,7,17.6ZM5,21V16.75L18.45,3.32a2,2,0,0,1,2.83,0l1.4,1.43a1.91,1.91,0,0,1,.58,1.4,1.91,1.91,0,0,1-.58,1.4L9.25,21ZM18.45,9,17,7.55Zm-12,3A5.31,5.31,0,0,0,4.9,8.1,5.31,5.31,0,0,0,1,6.5,5.31,5.31,0,0,0,4.9,4.9,5.31,5.31,0,0,0,6.5,1,5.31,5.31,0,0,0,8.1,4.9,5.31,5.31,0,0,0,12,6.5,5.46,5.46,0,0,0,6.5,12Z\"/>\n",
              "  </svg>\n",
              "    </button>\n",
              "    <script>\n",
              "      (() => {\n",
              "      const buttonEl =\n",
              "        document.querySelector('#id_dbf498a2-dcec-49e8-bad5-86cd724aac24 button.colab-df-generate');\n",
              "      buttonEl.style.display =\n",
              "        google.colab.kernel.accessAllowed ? 'block' : 'none';\n",
              "\n",
              "      buttonEl.onclick = () => {\n",
              "        google.colab.notebook.generateWithVariable('regions_df');\n",
              "      }\n",
              "      })();\n",
              "    </script>\n",
              "  </div>\n",
              "\n",
              "    </div>\n",
              "  </div>\n"
            ],
            "application/vnd.google.colaboratory.intrinsic+json": {
              "type": "dataframe",
              "variable_name": "regions_df",
              "summary": "{\n  \"name\": \"regions_df\",\n  \"rows\": 6,\n  \"fields\": [\n    {\n      \"column\": \"Region\",\n      \"properties\": {\n        \"dtype\": \"string\",\n        \"num_unique_values\": 6,\n        \"samples\": [\n          \"Europe\",\n          \"Western Pacific\",\n          \"Americas\"\n        ],\n        \"semantic_type\": \"\",\n        \"description\": \"\"\n      }\n    }\n  ]\n}"
            }
          },
          "metadata": {},
          "execution_count": 6
        }
      ]
    },
    {
      "cell_type": "code",
      "source": [
        "## Liste des pays\n",
        "# region_data['Pays']\n",
        "\n",
        "# Enregistrement de la liste des pays référencés\n",
        "liste_pays_region = region_data['Pays']\n",
        "\n",
        "# Aperçu du nombre de pays référencés\n",
        "print(\"Nombre de pays référencés :\", len(liste_pays_region))"
      ],
      "metadata": {
        "colab": {
          "base_uri": "https://localhost:8080/"
        },
        "id": "UbPZ799iEq5v",
        "outputId": "6e10bb81-cf0c-4bba-934d-9051eb77d011"
      },
      "execution_count": 7,
      "outputs": [
        {
          "output_type": "stream",
          "name": "stdout",
          "text": [
            "Nombre de pays référencés : 194\n"
          ]
        }
      ]
    },
    {
      "cell_type": "markdown",
      "source": [
        "## Données géo-politiques"
      ],
      "metadata": {
        "id": "Ub8hLI1IakNw"
      }
    },
    {
      "cell_type": "code",
      "source": [
        "## Analyse exploratoire\n",
        "explore_dataframe(political_data)"
      ],
      "metadata": {
        "colab": {
          "base_uri": "https://localhost:8080/"
        },
        "id": "4uGmvBZ2ajnY",
        "outputId": "34f3b977-b091-414a-c7f7-84bb77bdef12"
      },
      "execution_count": 8,
      "outputs": [
        {
          "output_type": "stream",
          "name": "stdout",
          "text": [
            "**************************************** DIMENSIONS ********************************************\n",
            "Le dataframe comporte 4 variable(s) pour 3526 observation(s).\n",
            "**************************************** TYPOLOGIES ********************************************\n",
            "Country : object\n",
            "Year : int64\n",
            "Political_Stability : float64\n",
            "Granularity : object\n",
            "**************************************** EFFECTIFS *********************************************\n",
            "Country : 3526\n",
            "Year : 3526.0\n",
            "Political_Stability : 3526.0\n",
            "Granularity : 3526\n",
            "**************************************** VALEURS NULLES ****************************************\n",
            "Country : 0\n",
            "Year : 0\n",
            "Political_Stability : 0\n",
            "Granularity : 0\n",
            "**************************************** DUPLICATS *********************************************\n",
            "Country : 0\n",
            "Year : 0\n",
            "Political_Stability : 0\n",
            "Granularity : 0\n"
          ]
        }
      ]
    },
    {
      "cell_type": "code",
      "source": [
        "## Préparation des données\n",
        "\n",
        "# Vérification du nombre de valeurs uniques au sein de la variable 'Granularity'\n",
        "# political_data[\"Granularity\"].unique()\n",
        "# Suppression de la variable non pertinente\n",
        "political_data = political_data.drop(\"Granularity\", axis=1)\n",
        "\n",
        "# Modifier la typologie des variables\n",
        "political_data['Country'] = political_data['Country'].astype('string')\n",
        "\n",
        "# Modifier le nom des variables\n",
        "political_data.rename(columns={'Country': 'Pays', 'Year': 'Année', 'Political_Stability': 'Score_Stabilité_Politique'}, inplace=True)\n",
        "\n",
        "# Formatage des noms de pays\n",
        "political_data.loc[(political_data['Pays'] == 'China, mainland'), 'Pays'] = 'China'"
      ],
      "metadata": {
        "id": "pAgjPG-eFLt5"
      },
      "execution_count": 9,
      "outputs": []
    },
    {
      "cell_type": "code",
      "source": [
        "## Liste des pays\n",
        "\n",
        "# Identification des pays non référencés par le fichier contenant les données géographiques\n",
        "pays_non_listes = political_data[~political_data['Pays'].isin(liste_pays_region)]['Pays'].unique()\n",
        "\n",
        "# Calcul du nombre de pays non référencés\n",
        "nombre_pays_non_listes = len(pays_non_listes)\n",
        "\n",
        "# Aperçu de la liste des pays non référencés\n",
        "print(\"Nombre de pays non référencés:\", nombre_pays_non_listes)\n",
        "print(\"\")\n",
        "print(\"Liste des pays non référencés:\")\n",
        "print(\"\")\n",
        "for pays in pays_non_listes:\n",
        "    print(pays)\n",
        "print(\"\")\n",
        "\n",
        "# Suppression des pays non référencés\n",
        "political_data = political_data[~political_data['Pays'].isin(pays_non_listes)]\n",
        "political_data.reset_index(drop=True, inplace=True)\n",
        "\n",
        "# Calcul du nombre de pays référencés\n",
        "nbr_pays = political_data['Pays'].nunique()\n",
        "\n",
        "# Aperçu du résultat\n",
        "print(\"Nombre de pays référencés :\", nbr_pays)\n",
        "print(\"\")\n",
        "\n",
        "# Aperçu de la valeur minimale de Score_Stabilité_Politique\n",
        "min_score = political_data['Score_Stabilité_Politique'].min()\n",
        "print(\"Valeur minimale de Score_Stabilité_Politique :\", min_score)\n",
        "# Aperçu de la valeur maximale de Score_Stabilité_Politique\n",
        "max_score = political_data['Score_Stabilité_Politique'].max()\n",
        "print(\"Valeur maximale de Score_Stabilité_Politique :\", max_score)"
      ],
      "metadata": {
        "colab": {
          "base_uri": "https://localhost:8080/"
        },
        "id": "BIIOVGjyF4x3",
        "outputId": "1b8424aa-6044-44c5-eb65-2f67908a1706"
      },
      "execution_count": 10,
      "outputs": [
        {
          "output_type": "stream",
          "name": "stdout",
          "text": [
            "Nombre de pays non référencés: 9\n",
            "\n",
            "Liste des pays non référencés:\n",
            "\n",
            "American Samoa\n",
            "Bermuda\n",
            "China, Hong Kong SAR\n",
            "China, Macao SAR\n",
            "China, Taiwan Province of\n",
            "Greenland\n",
            "North Macedonia\n",
            "Palestine\n",
            "Puerto Rico\n",
            "\n",
            "Nombre de pays référencés : 191\n",
            "\n",
            "Valeur minimale de Score_Stabilité_Politique : -3.31\n",
            "Valeur maximale de Score_Stabilité_Politique : 1.76\n"
          ]
        }
      ]
    },
    {
      "cell_type": "markdown",
      "source": [
        "## Données démographiques"
      ],
      "metadata": {
        "id": "yOo__la2b0mq"
      }
    },
    {
      "cell_type": "code",
      "source": [
        "## Analyse exploratoire\n",
        "explore_dataframe(population_data)"
      ],
      "metadata": {
        "colab": {
          "base_uri": "https://localhost:8080/"
        },
        "id": "FdHP_SoKb5H9",
        "outputId": "86afc77a-201f-46cb-cf90-4bd10837b663"
      },
      "execution_count": 11,
      "outputs": [
        {
          "output_type": "stream",
          "name": "stdout",
          "text": [
            "**************************************** DIMENSIONS ********************************************\n",
            "Le dataframe comporte 4 variable(s) pour 20914 observation(s).\n",
            "**************************************** TYPOLOGIES ********************************************\n",
            "Country : object\n",
            "Granularity : object\n",
            "Year : int64\n",
            "Population : float64\n",
            "**************************************** EFFECTIFS *********************************************\n",
            "Country : 20914\n",
            "Granularity : 20914\n",
            "Year : 20914.0\n",
            "Population : 20914.0\n",
            "**************************************** VALEURS NULLES ****************************************\n",
            "Country : 0\n",
            "Granularity : 0\n",
            "Year : 0\n",
            "Population : 0\n",
            "**************************************** DUPLICATS *********************************************\n",
            "Country : 0\n",
            "Granularity : 0\n",
            "Year : 0\n",
            "Population : 0\n"
          ]
        }
      ]
    },
    {
      "cell_type": "code",
      "source": [
        "## Préparation des données\n",
        "\n",
        "# Faire pivoter le dataframe\n",
        "population_data = population_data.pivot(index=['Country','Year'], columns='Granularity', values='Population').reset_index()\n",
        "\n",
        "# Indexation du nouveau dataframe\n",
        "population_data = population_data.rename_axis(columns={'Granularity': 'index'})\n",
        "population_data.columns.name = None # Réinitialiser les noms des variables\n",
        "\n",
        "# Formatage des données\n",
        "population_data['Female'] = population_data['Female'] * 1000\n",
        "population_data['Male'] = population_data['Male'] * 1000\n",
        "population_data['Rural'] = population_data['Rural'] * 1000\n",
        "population_data['Urban'] = population_data['Urban'] * 1000\n",
        "population_data['Total'] = population_data['Total'] * 1000\n",
        "\n",
        "# Ordre des variables\n",
        "population_data = population_data[['Country', 'Year', 'Female','Male','Rural','Urban','Total']].copy()\n",
        "\n",
        "# Modifier le nom des variables\n",
        "population_data.rename(columns={'Country': 'Pays', 'Year': 'Année','Female': 'Female_Population','Male': 'Male_Population','Rural': 'Rural_Population','Urban': 'Urban_Population','Total': 'Total_Population',}, inplace=True)"
      ],
      "metadata": {
        "id": "HD5kpylRGwVk"
      },
      "execution_count": 12,
      "outputs": []
    },
    {
      "cell_type": "code",
      "source": [
        "## Liste des pays\n",
        "\n",
        "# Identification des pays non référencés par le fichier contenant les données géographiques\n",
        "pays_non_listes = population_data[~population_data['Pays'].isin(liste_pays_region)]['Pays'].unique()\n",
        "\n",
        "# Calcul du nombre de pays non référencés\n",
        "nombre_pays_non_listes = len(pays_non_listes)\n",
        "\n",
        "# Aperçu de la liste des pays non référencés\n",
        "print(\"Nombre de pays non référencés:\", nombre_pays_non_listes)\n",
        "print(\"\")\n",
        "print(\"Liste des pays non référencés:\")\n",
        "print(\"\")\n",
        "for pays in pays_non_listes:\n",
        "    print(pays)\n",
        "print(\"\")\n",
        "\n",
        "# Suppression des pays non référencés\n",
        "population_data = population_data[~population_data['Pays'].isin(pays_non_listes)]\n",
        "population_data.reset_index(drop=True, inplace=True)\n",
        "\n",
        "# Calcul du nombre de pays référencés\n",
        "nbr_pays = population_data['Pays'].nunique()\n",
        "\n",
        "# Aperçu du résultat\n",
        "print(\"Nombre de pays référencés :\", nbr_pays)\n",
        "print(\"\")"
      ],
      "metadata": {
        "colab": {
          "base_uri": "https://localhost:8080/"
        },
        "id": "PpkVEuFXHCmE",
        "outputId": "b8d31864-ae84-41db-eea6-e959aaf342d0"
      },
      "execution_count": 13,
      "outputs": [
        {
          "output_type": "stream",
          "name": "stdout",
          "text": [
            "Nombre de pays non référencés: 46\n",
            "\n",
            "Liste des pays non référencés:\n",
            "\n",
            "American Samoa\n",
            "Anguilla\n",
            "Aruba\n",
            "Bermuda\n",
            "Bonaire, Sint Eustatius and Saba\n",
            "British Virgin Islands\n",
            "Cayman Islands\n",
            "Channel Islands\n",
            "China, Hong Kong SAR\n",
            "China, Macao SAR\n",
            "China, Taiwan Province of\n",
            "China, mainland\n",
            "Curaçao\n",
            "Falkland Islands (Malvinas)\n",
            "Faroe Islands\n",
            "French Guyana\n",
            "French Polynesia\n",
            "Gibraltar\n",
            "Greenland\n",
            "Guadeloupe\n",
            "Guam\n",
            "Holy See\n",
            "Isle of Man\n",
            "Liechtenstein\n",
            "Martinique\n",
            "Mayotte\n",
            "Montserrat\n",
            "Netherlands Antilles (former)\n",
            "New Caledonia\n",
            "North Macedonia\n",
            "Northern Mariana Islands\n",
            "Palestine\n",
            "Puerto Rico\n",
            "Réunion\n",
            "Saint Barthélemy\n",
            "Saint Helena, Ascension and Tristan da Cunha\n",
            "Saint Pierre and Miquelon\n",
            "Saint-Martin (French part)\n",
            "Serbia and Montenegro\n",
            "Sint Maarten  (Dutch part)\n",
            "Sudan (former)\n",
            "Tokelau\n",
            "Turks and Caicos Islands\n",
            "United States Virgin Islands\n",
            "Wallis and Futuna Islands\n",
            "Western Sahara\n",
            "\n",
            "Nombre de pays référencés : 193\n",
            "\n"
          ]
        }
      ]
    },
    {
      "cell_type": "code",
      "source": [
        "## Gestion des valeurs nulles\n",
        "\n",
        "# Filtrage des pays concernés par les valeurs nulles au sein des variables Male ou Female\n",
        "pays_valeurs_nulles = population_data[(population_data['Male_Population'].isnull()) | (population_data['Female_Population'].isnull())]['Pays']\n",
        "\n",
        "# Recupération de la liste des pays\n",
        "pays_valeurs_nulles_unique = pays_valeurs_nulles.unique()\n",
        "\n",
        "# Aperçu des pays concernés par les valeurs nulles\n",
        "print(\"Pays concernés par les valeurs nulles au sein des variables Male ou Female :\")\n",
        "for pays in pays_valeurs_nulles_unique:\n",
        "    print(pays)\n",
        "\n",
        "# Suppression des lignes correspondantes\n",
        "indices_a_supprimer = population_data[(population_data['Male_Population'].isnull()) | (population_data['Female_Population'].isnull())].index\n",
        "population_data = population_data.drop(indices_a_supprimer)"
      ],
      "metadata": {
        "colab": {
          "base_uri": "https://localhost:8080/"
        },
        "id": "_3UElDMpHaS-",
        "outputId": "f6d4d8b5-843c-428b-f975-8e85034145ad"
      },
      "execution_count": 14,
      "outputs": [
        {
          "output_type": "stream",
          "name": "stdout",
          "text": [
            "Pays concernés par les valeurs nulles au sein des variables Male ou Female :\n",
            "Andorra\n",
            "Cook Islands\n",
            "Dominica\n",
            "Marshall Islands\n",
            "Monaco\n",
            "Nauru\n",
            "Niue\n",
            "Palau\n",
            "Saint Kitts and Nevis\n",
            "San Marino\n",
            "Tuvalu\n"
          ]
        }
      ]
    },
    {
      "cell_type": "code",
      "source": [
        "# Modifier la typologie des variables\n",
        "population_data['Pays'] = population_data['Pays'].astype('string')\n",
        "population_data['Female_Population'] = population_data['Female_Population'].astype('int')\n",
        "population_data['Male_Population'] = population_data['Male_Population'].astype('int')\n",
        "population_data['Rural_Population'] = population_data['Rural_Population'].astype('int')\n",
        "population_data['Urban_Population'] = population_data['Urban_Population'].astype('int')\n",
        "population_data['Total_Population'] = population_data['Total_Population'].astype('int')\n",
        "\n",
        "# Vérification de la cohérence des données (Total_Population est égal à Male_Population + Female_Population)\n",
        "mask = population_data['Total_Population'] != (population_data['Male_Population'] + population_data['Female_Population'])\n",
        "\n",
        "# Mettre à jour Total_Population si nécessaire\n",
        "population_data.loc[mask, 'Total_Population'] = population_data['Male_Population'] + population_data['Female_Population']"
      ],
      "metadata": {
        "id": "rgvmnkQWHiJo"
      },
      "execution_count": 15,
      "outputs": []
    },
    {
      "cell_type": "code",
      "source": [
        "# Calcul de la population totale en 2016\n",
        "population_data[population_data['Année'] == 2016]['Total_Population'].sum()\n",
        "\n",
        "# Filtrer les données pour l'année 2016\n",
        "df_2016 = population_data[population_data['Année'] == 2016]\n",
        "\n",
        "# Créer un nouveau DataFrame avec les pays uniques et leur population en 2016\n",
        "df_population_2016 = df_2016[['Pays', 'Total_Population']].drop_duplicates()"
      ],
      "metadata": {
        "id": "4LXjUgt94D43"
      },
      "execution_count": 16,
      "outputs": []
    },
    {
      "cell_type": "markdown",
      "source": [
        "## Données relatives à l'accès à l'eau potable"
      ],
      "metadata": {
        "id": "-Vpmcu11H-km"
      }
    },
    {
      "cell_type": "code",
      "source": [
        "## Analyse exploratoire\n",
        "explore_dataframe(safety_data)"
      ],
      "metadata": {
        "colab": {
          "base_uri": "https://localhost:8080/"
        },
        "id": "B66eCPdCeUlV",
        "outputId": "d889a6d1-e008-4a80-aa33-7ec753450c55"
      },
      "execution_count": 17,
      "outputs": [
        {
          "output_type": "stream",
          "name": "stdout",
          "text": [
            "**************************************** DIMENSIONS ********************************************\n",
            "Le dataframe comporte 5 variable(s) pour 10476 observation(s).\n",
            "**************************************** TYPOLOGIES ********************************************\n",
            "Year : int64\n",
            "Country : object\n",
            "Granularity : object\n",
            "Population using at least basic drinking-water services (%) : float64\n",
            "Population using safely managed drinking-water services (%) : float64\n",
            "**************************************** EFFECTIFS *********************************************\n",
            "Year : 10476.0\n",
            "Country : 10476\n",
            "Granularity : 10476\n",
            "Population using at least basic drinking-water services (%) : 9415.0\n",
            "Population using safely managed drinking-water services (%) : 3286.0\n",
            "**************************************** VALEURS NULLES ****************************************\n",
            "Year : 0\n",
            "Country : 0\n",
            "Granularity : 0\n",
            "Population using at least basic drinking-water services (%) : 1061\n",
            "Population using safely managed drinking-water services (%) : 7190\n",
            "**************************************** DUPLICATS *********************************************\n",
            "Year : 0\n",
            "Country : 0\n",
            "Granularity : 0\n",
            "Population using at least basic drinking-water services (%) : 0\n",
            "Population using safely managed drinking-water services (%) : 0\n"
          ]
        }
      ]
    },
    {
      "cell_type": "code",
      "source": [
        "## Préparation des données\n",
        "\n",
        "# Modifier la typologie des variables\n",
        "safety_data['Country'] = safety_data['Country'].astype('string')\n",
        "safety_data['Granularity'] = safety_data['Granularity'].astype('string')\n",
        "\n",
        "# Modifier le nom des variables\n",
        "safety_data.rename(columns={'Country': 'Pays', 'Year': 'Année', 'Granularity': 'Granularité', 'Population using at least basic drinking-water services (%)': '%_Basic_Water','Population using safely managed drinking-water services (%)': '%_Safe_Water',}, inplace=True)\n",
        "\n",
        "# Faire pivoter le dataframe\n",
        "safety_data_basic = safety_data.pivot(index=['Pays','Année'], columns='Granularité', values='%_Basic_Water').reset_index()\n",
        "\n",
        "# Réinitialiser les noms de variables\n",
        "safety_data_basic = safety_data_basic.rename_axis(columns={'Granularité': 'index'})\n",
        "safety_data_basic.columns.name = None\n",
        "\n",
        "# Filtrage des données pour obtenir les chiffres d'accès à l'eau potable\n",
        "safety_data_safe= safety_data.loc[safety_data['Granularité'] == 'Total'][['Année', 'Pays', '%_Safe_Water']]\n",
        "\n",
        "# Fusion des deux dataframes\n",
        "safety_data = pd.merge(safety_data_basic, safety_data_safe, on=['Année','Pays'])\n",
        "\n",
        "# Modifier le nom des variables\n",
        "safety_data.rename(columns={'Rural': '%_Basic_Water_Rural', 'Total':'%_Basic_Water_Total', 'Urban': '%_Basic_Water_Urban',\n",
        "                             \"Safety Water\":'%_Safe_Water_Total'}, inplace=True)\n",
        "\n",
        "# Ré-organiser l'ordre des variables pour une meilleur lisibilité\n",
        "nouvel_ordre_colonnes = ['Pays', 'Année', '%_Basic_Water_Rural', '%_Basic_Water_Urban', '%_Basic_Water_Total', '%_Safe_Water']\n",
        "safety_data = safety_data.reindex(columns=nouvel_ordre_colonnes)"
      ],
      "metadata": {
        "id": "LSbgtPzVeXzk"
      },
      "execution_count": 18,
      "outputs": []
    },
    {
      "cell_type": "code",
      "source": [
        "## Liste des pays\n",
        "\n",
        "# Identification des pays non référencés par le fichier contenant les données géographiques\n",
        "pays_non_listes = safety_data[~safety_data['Pays'].isin(liste_pays_region)]['Pays'].unique()\n",
        "\n",
        "# Calcul du nombre de pays non référencés\n",
        "nombre_pays_non_listes = len(pays_non_listes)\n",
        "\n",
        "# Aperçu de la liste des pays non référencés\n",
        "print(\"Nombre de pays non référencés:\", nombre_pays_non_listes)\n",
        "print(\"\")\n",
        "\n",
        "# Calcul du nombre de pays référencés\n",
        "nbr_pays = safety_data['Pays'].nunique()\n",
        "\n",
        "# Aperçu du résultat\n",
        "print(\"Nombre de pays : référencés\", nbr_pays)\n",
        "print(\"\")"
      ],
      "metadata": {
        "colab": {
          "base_uri": "https://localhost:8080/"
        },
        "id": "9mE97q1EJiof",
        "outputId": "9fe5029d-61ad-4739-dfa2-6e9881715e7a"
      },
      "execution_count": 19,
      "outputs": [
        {
          "output_type": "stream",
          "name": "stdout",
          "text": [
            "Nombre de pays non référencés: 0\n",
            "\n",
            "Nombre de pays : référencés 194\n",
            "\n"
          ]
        }
      ]
    },
    {
      "cell_type": "markdown",
      "source": [
        "## Données relatives aux taux de mortalité dûs à l'eau insalubre"
      ],
      "metadata": {
        "id": "_GlOeKlBJwWK"
      }
    },
    {
      "cell_type": "code",
      "source": [
        "## Analyse exploratoire\n",
        "explore_dataframe(mortality_data)"
      ],
      "metadata": {
        "colab": {
          "base_uri": "https://localhost:8080/"
        },
        "id": "vN3H5rTUJxOB",
        "outputId": "d17a6479-aff9-4fd5-b377-bedbaba38788"
      },
      "execution_count": 20,
      "outputs": [
        {
          "output_type": "stream",
          "name": "stdout",
          "text": [
            "**************************************** DIMENSIONS ********************************************\n",
            "Le dataframe comporte 5 variable(s) pour 549 observation(s).\n",
            "**************************************** TYPOLOGIES ********************************************\n",
            "Year : int64\n",
            "Country : object\n",
            "Granularity : object\n",
            "Mortality rate attributed to exposure to unsafe WASH services : float64\n",
            "WASH deaths : float64\n",
            "**************************************** EFFECTIFS *********************************************\n",
            "Year : 549.0\n",
            "Country : 549\n",
            "Granularity : 549\n",
            "Mortality rate attributed to exposure to unsafe WASH services : 549.0\n",
            "WASH deaths : 183.0\n",
            "**************************************** VALEURS NULLES ****************************************\n",
            "Year : 0\n",
            "Country : 0\n",
            "Granularity : 0\n",
            "Mortality rate attributed to exposure to unsafe WASH services : 0\n",
            "WASH deaths : 366\n",
            "**************************************** DUPLICATS *********************************************\n",
            "Year : 0\n",
            "Country : 0\n",
            "Granularity : 0\n",
            "Mortality rate attributed to exposure to unsafe WASH services : 0\n",
            "WASH deaths : 0\n"
          ]
        }
      ]
    },
    {
      "cell_type": "code",
      "source": [
        "## Préparation des données\n",
        "\n",
        "# Modifier la typologie des variables\n",
        "mortality_data['Country'] = mortality_data['Country'].astype('string')\n",
        "mortality_data['Granularity'] = mortality_data['Granularity'].astype('string')\n",
        "\n",
        "# Faire pivoter le dataframe\n",
        "mortality_data_1 = mortality_data.pivot(index=['Country','Year'], columns='Granularity', values='Mortality rate attributed to exposure to unsafe WASH services').reset_index()\n",
        "\n",
        "# Ré-indexaction des variables\n",
        "mortality_data_1 = mortality_data_1.rename_axis(columns={'Granularity': 'index'})\n",
        "mortality_data_1.columns.name = None\n",
        "\n",
        "# Filtrage du nombre de décès\n",
        "nombre_deces_2016 = mortality_data.loc[mortality_data['Granularity'] == 'Total'][['Year', 'Country', 'WASH deaths']]\n",
        "\n",
        "# Fusion des deux dataframes\n",
        "mortality_data = pd.merge(mortality_data_1, nombre_deces_2016, on=['Country','Year'])\n",
        "mortality_data.rename(columns={'Country': 'Pays','Year': 'Année','Female': 'Female_Death_Per100K', 'Male':'Male_Death_Per100K', 'Total':'Total_Death_Per100K', 'WASH deaths' :'Nbr_Death'}, inplace=True)\n"
      ],
      "metadata": {
        "id": "sPIq57w9J4kj"
      },
      "execution_count": 21,
      "outputs": []
    },
    {
      "cell_type": "code",
      "source": [
        "## Liste des pays\n",
        "\n",
        "# Identification des pays non référencés par le fichier contenant les données géographiques\n",
        "pays_non_listes = mortality_data[~mortality_data['Pays'].isin(liste_pays_region)]['Pays'].unique()\n",
        "\n",
        "# Calcul du nombre de pays non référencés\n",
        "nombre_pays_non_listes = len(pays_non_listes)\n",
        "\n",
        "# Aperçu de la liste des pays non référencés\n",
        "print(\"Nombre de pays non référencés:\", nombre_pays_non_listes)\n",
        "print(\"\")\n",
        "\n",
        "# Calcul du nombre de pays référencés\n",
        "nbr_pays = mortality_data['Pays'].nunique()\n",
        "\n",
        "# Aperçu du résultat\n",
        "print(\"Nombre de pays référencés :\", nbr_pays)\n",
        "print(\"\")"
      ],
      "metadata": {
        "colab": {
          "base_uri": "https://localhost:8080/"
        },
        "id": "_Ze0XT5KgI-j",
        "outputId": "a9a0e9bc-40d0-4a19-efa5-3c26cd5200f3"
      },
      "execution_count": 22,
      "outputs": [
        {
          "output_type": "stream",
          "name": "stdout",
          "text": [
            "Nombre de pays non référencés: 0\n",
            "\n",
            "Nombre de pays référencés : 183\n",
            "\n"
          ]
        }
      ]
    },
    {
      "cell_type": "markdown",
      "source": [
        "# Exportation des données"
      ],
      "metadata": {
        "id": "CSv7QHZaLYcO"
      }
    },
    {
      "cell_type": "code",
      "source": [
        "# Exportation des fichiers modifiés au format CSV\n",
        "region_data.to_csv('region_data.csv', index=False)\n",
        "population_data.to_csv('population_data.csv', index=False)\n",
        "safety_data.to_csv('safety_data.csv', index=False)\n",
        "mortality_data.to_csv('mortality_data.csv', index=False)\n",
        "political_data.to_csv('political_data.csv', index=False)"
      ],
      "metadata": {
        "id": "Awx9ky0lLbtT"
      },
      "execution_count": 23,
      "outputs": []
    }
  ]
}